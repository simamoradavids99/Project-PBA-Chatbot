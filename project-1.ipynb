{
 "cells": [
  {
   "cell_type": "code",
   "execution_count": 3,
   "metadata": {},
   "outputs": [],
   "source": [
    "#nltk library\n",
    "import nltk\n",
    "from nltk.stem import WordNetLemmatizer\n",
    "lemmatizer = WordNetLemmatizer()\n",
    "import json"
   ]
  },
  {
   "cell_type": "code",
   "execution_count": 2,
   "metadata": {},
   "outputs": [
    {
     "name": "stdout",
     "output_type": "stream",
     "text": [
      "Requirement already satisfied: keras==2.3.0 in c:\\users\\david\\anaconda3\\lib\\site-packages (2.3.0)\n",
      "Requirement already satisfied: keras-applications>=1.0.6 in c:\\users\\david\\anaconda3\\lib\\site-packages (from keras==2.3.0) (1.0.8)\n",
      "Requirement already satisfied: pyyaml in c:\\users\\david\\anaconda3\\lib\\site-packages (from keras==2.3.0) (5.3.1)\n",
      "Requirement already satisfied: six>=1.9.0 in c:\\users\\david\\anaconda3\\lib\\site-packages (from keras==2.3.0) (1.15.0)\n",
      "Requirement already satisfied: h5py in c:\\users\\david\\anaconda3\\lib\\site-packages (from keras==2.3.0) (2.10.0)\n",
      "Requirement already satisfied: keras-preprocessing>=1.0.5 in c:\\users\\david\\anaconda3\\lib\\site-packages (from keras==2.3.0) (1.1.2)\n",
      "Requirement already satisfied: scipy>=0.14 in c:\\users\\david\\anaconda3\\lib\\site-packages (from keras==2.3.0) (1.5.2)\n",
      "Requirement already satisfied: numpy>=1.9.1 in c:\\users\\david\\anaconda3\\lib\\site-packages (from keras==2.3.0) (1.19.2)\n"
     ]
    },
    {
     "name": "stderr",
     "output_type": "stream",
     "text": [
      "WARNING: Error parsing requirements for absl-py: [Errno 2] No such file or directory: 'c:\\\\users\\\\david\\\\anaconda3\\\\lib\\\\site-packages\\\\absl_py-0.10.0.dist-info\\\\METADATA'\n"
     ]
    }
   ],
   "source": [
    "!pip install keras==2.3.0"
   ]
  },
  {
   "cell_type": "code",
   "execution_count": 17,
   "metadata": {},
   "outputs": [],
   "source": [
    "#mendefinisikan kata , kelas,dan kalimat\n",
    "words=[]\n",
    "classes = []\n",
    "documents = []\n",
    "ignore_words = ['?', '!']\n",
    "data_file = open('./intents.JSON').read()\n",
    "intents = json.loads(data_file)"
   ]
  },
  {
   "cell_type": "code",
   "execution_count": 10,
   "metadata": {},
   "outputs": [
    {
     "data": {
      "text/plain": [
       "{'intents': [{'tag': 'greeting',\n",
       "   'patterns': ['Hi', 'How are you', 'Is anyone there?', 'Hello', 'Good day'],\n",
       "   'responses': ['Hello, thanks for visiting',\n",
       "    'Good to see you again',\n",
       "    'Hi there, how can I help?'],\n",
       "   'context_set': ''},\n",
       "  {'tag': 'goodbye',\n",
       "   'patterns': ['Bye', 'See you later', 'Goodbye'],\n",
       "   'responses': ['See you later, thanks for visiting',\n",
       "    'Have a nice day',\n",
       "    'Bye! Come back again soon.']},\n",
       "  {'tag': 'thanks',\n",
       "   'patterns': ['Thanks', 'Thank you', \"That's helpful\"],\n",
       "   'responses': ['Happy to help!', 'Any time!', 'My pleasure']},\n",
       "  {'tag': 'hours',\n",
       "   'patterns': ['What hours are you open?',\n",
       "    'What are your hours?',\n",
       "    'When are you open?'],\n",
       "   'responses': [\"We're open every day 9am-9pm\",\n",
       "    'Our hours are 9am-9pm every day']},\n",
       "  {'tag': 'mopeds',\n",
       "   'patterns': ['Which mopeds do you have?',\n",
       "    'What kinds of mopeds are there?',\n",
       "    'What do you rent?'],\n",
       "   'responses': ['We rent Yamaha, Piaggio and Vespa mopeds',\n",
       "    'We have Piaggio, Vespa and Yamaha mopeds']},\n",
       "  {'tag': 'payments',\n",
       "   'patterns': ['Do you take credit cards?',\n",
       "    'Do you accept Mastercard?',\n",
       "    'Are you cash only?'],\n",
       "   'responses': ['We accept VISA, Mastercard and AMEX',\n",
       "    'We accept most major credit cards']},\n",
       "  {'tag': 'opentoday',\n",
       "   'patterns': ['Are you open today?',\n",
       "    'When do you open today?',\n",
       "    'What are your hours today?'],\n",
       "   'responses': [\"We're open every day from 9am-9pm\",\n",
       "    'Our hours are 9am-9pm every day']},\n",
       "  {'tag': 'rental',\n",
       "   'patterns': ['Can we rent a moped?',\n",
       "    \"I'd like to rent a moped\",\n",
       "    'How does this work?'],\n",
       "   'responses': ['Are you looking to rent today or later this week?'],\n",
       "   'context_set': 'rentalday'},\n",
       "  {'tag': 'today',\n",
       "   'patterns': ['today'],\n",
       "   'responses': ['For rentals today please call 1-800-MYMOPED',\n",
       "    'Same-day rentals please call 1-800-MYMOPED'],\n",
       "   'context_filter': 'rentalday'}]}"
      ]
     },
     "execution_count": 10,
     "metadata": {},
     "output_type": "execute_result"
    }
   ],
   "source": [
    "intents"
   ]
  },
  {
   "cell_type": "code",
   "execution_count": 18,
   "metadata": {},
   "outputs": [],
   "source": [
    "#data preprocessing\n",
    "for i in intents['intents']:\n",
    "    for j in i['patterns']:\n",
    "\n",
    "        # tokezing kata yang terdapat pada pattern\n",
    "        w = nltk.word_tokenize(j)\n",
    "        words.extend(w)\n",
    "        \n",
    "        # mengisi kata - kata yang sudah d tokenize ke document\n",
    "        documents.append((w, i['tag']))\n",
    "\n",
    "        #menambahkan kumpulan tag kedalam klass yang kita miliki\n",
    "        if i['tag'] not in classes:\n",
    "            classes.append(i['tag'])"
   ]
  },
  {
   "cell_type": "code",
   "execution_count": 19,
   "metadata": {},
   "outputs": [
    {
     "data": {
      "text/plain": [
       "['Hi',\n",
       " 'How',\n",
       " 'are',\n",
       " 'you',\n",
       " 'Is',\n",
       " 'anyone',\n",
       " 'there',\n",
       " '?',\n",
       " 'Hello',\n",
       " 'Good',\n",
       " 'day',\n",
       " 'Bye',\n",
       " 'See',\n",
       " 'you',\n",
       " 'later',\n",
       " 'Goodbye',\n",
       " 'Thanks',\n",
       " 'Thank',\n",
       " 'you',\n",
       " 'That',\n",
       " \"'s\",\n",
       " 'helpful',\n",
       " 'What',\n",
       " 'hours',\n",
       " 'are',\n",
       " 'you',\n",
       " 'open',\n",
       " '?',\n",
       " 'What',\n",
       " 'are',\n",
       " 'your',\n",
       " 'hours',\n",
       " '?',\n",
       " 'When',\n",
       " 'are',\n",
       " 'you',\n",
       " 'open',\n",
       " '?',\n",
       " 'Which',\n",
       " 'mopeds',\n",
       " 'do',\n",
       " 'you',\n",
       " 'have',\n",
       " '?',\n",
       " 'What',\n",
       " 'kinds',\n",
       " 'of',\n",
       " 'mopeds',\n",
       " 'are',\n",
       " 'there',\n",
       " '?',\n",
       " 'What',\n",
       " 'do',\n",
       " 'you',\n",
       " 'rent',\n",
       " '?',\n",
       " 'Do',\n",
       " 'you',\n",
       " 'take',\n",
       " 'credit',\n",
       " 'cards',\n",
       " '?',\n",
       " 'Do',\n",
       " 'you',\n",
       " 'accept',\n",
       " 'Mastercard',\n",
       " '?',\n",
       " 'Are',\n",
       " 'you',\n",
       " 'cash',\n",
       " 'only',\n",
       " '?',\n",
       " 'Are',\n",
       " 'you',\n",
       " 'open',\n",
       " 'today',\n",
       " '?',\n",
       " 'When',\n",
       " 'do',\n",
       " 'you',\n",
       " 'open',\n",
       " 'today',\n",
       " '?',\n",
       " 'What',\n",
       " 'are',\n",
       " 'your',\n",
       " 'hours',\n",
       " 'today',\n",
       " '?',\n",
       " 'Can',\n",
       " 'we',\n",
       " 'rent',\n",
       " 'a',\n",
       " 'moped',\n",
       " '?',\n",
       " 'I',\n",
       " \"'d\",\n",
       " 'like',\n",
       " 'to',\n",
       " 'rent',\n",
       " 'a',\n",
       " 'moped',\n",
       " 'How',\n",
       " 'does',\n",
       " 'this',\n",
       " 'work',\n",
       " '?',\n",
       " 'today']"
      ]
     },
     "execution_count": 19,
     "metadata": {},
     "output_type": "execute_result"
    }
   ],
   "source": [
    "words"
   ]
  },
  {
   "cell_type": "code",
   "execution_count": 20,
   "metadata": {},
   "outputs": [
    {
     "data": {
      "text/plain": [
       "[(['Hi'], 'greeting'),\n",
       " (['How', 'are', 'you'], 'greeting'),\n",
       " (['Is', 'anyone', 'there', '?'], 'greeting'),\n",
       " (['Hello'], 'greeting'),\n",
       " (['Good', 'day'], 'greeting'),\n",
       " (['Bye'], 'goodbye'),\n",
       " (['See', 'you', 'later'], 'goodbye'),\n",
       " (['Goodbye'], 'goodbye'),\n",
       " (['Thanks'], 'thanks'),\n",
       " (['Thank', 'you'], 'thanks'),\n",
       " (['That', \"'s\", 'helpful'], 'thanks'),\n",
       " (['What', 'hours', 'are', 'you', 'open', '?'], 'hours'),\n",
       " (['What', 'are', 'your', 'hours', '?'], 'hours'),\n",
       " (['When', 'are', 'you', 'open', '?'], 'hours'),\n",
       " (['Which', 'mopeds', 'do', 'you', 'have', '?'], 'mopeds'),\n",
       " (['What', 'kinds', 'of', 'mopeds', 'are', 'there', '?'], 'mopeds'),\n",
       " (['What', 'do', 'you', 'rent', '?'], 'mopeds'),\n",
       " (['Do', 'you', 'take', 'credit', 'cards', '?'], 'payments'),\n",
       " (['Do', 'you', 'accept', 'Mastercard', '?'], 'payments'),\n",
       " (['Are', 'you', 'cash', 'only', '?'], 'payments'),\n",
       " (['Are', 'you', 'open', 'today', '?'], 'opentoday'),\n",
       " (['When', 'do', 'you', 'open', 'today', '?'], 'opentoday'),\n",
       " (['What', 'are', 'your', 'hours', 'today', '?'], 'opentoday'),\n",
       " (['Can', 'we', 'rent', 'a', 'moped', '?'], 'rental'),\n",
       " (['I', \"'d\", 'like', 'to', 'rent', 'a', 'moped'], 'rental'),\n",
       " (['How', 'does', 'this', 'work', '?'], 'rental'),\n",
       " (['today'], 'today')]"
      ]
     },
     "execution_count": 20,
     "metadata": {},
     "output_type": "execute_result"
    }
   ],
   "source": [
    "documents"
   ]
  },
  {
   "cell_type": "code",
   "execution_count": 21,
   "metadata": {},
   "outputs": [
    {
     "data": {
      "text/plain": [
       "['greeting',\n",
       " 'goodbye',\n",
       " 'thanks',\n",
       " 'hours',\n",
       " 'mopeds',\n",
       " 'payments',\n",
       " 'opentoday',\n",
       " 'rental',\n",
       " 'today']"
      ]
     },
     "execution_count": 21,
     "metadata": {},
     "output_type": "execute_result"
    }
   ],
   "source": [
    "classes"
   ]
  },
  {
   "cell_type": "code",
   "execution_count": 26,
   "metadata": {},
   "outputs": [
    {
     "name": "stdout",
     "output_type": "stream",
     "text": [
      "Training data created\n"
     ]
    },
    {
     "name": "stderr",
     "output_type": "stream",
     "text": [
      "C:\\Users\\David\\Anaconda3\\lib\\site-packages\\ipykernel_launcher.py:24: VisibleDeprecationWarning: Creating an ndarray from ragged nested sequences (which is a list-or-tuple of lists-or-tuples-or ndarrays with different lengths or shapes) is deprecated. If you meant to do this, you must specify 'dtype=object' when creating the ndarray\n"
     ]
    }
   ],
   "source": [
    "# membuat training data\n",
    "training = []\n",
    "# membuat array untuk untuk output yang akan dihasilkan\n",
    "output_empty = [0] * len(classes)\n",
    "# training set, kumpulan data dari beberapa kalimat\n",
    "for doc in documents:\n",
    "    # insiaslisasi bag of words\n",
    "    bag = []\n",
    "    # list of tokenized words for the pattern\n",
    "    pattern_words = doc[0]\n",
    "    # lemmatize masing masing kata yang terdapat dalam, in attempt to represent related words\n",
    "    pattern_words = [lemmatizer.lemmatize(word.lower()) for word in pattern_words]\n",
    "    # create our bag of words array with 1, if word match found in current pattern\n",
    "for w in words:\n",
    "    bag.append(1) if w in pattern_words else bag.append(0)\n",
    "\n",
    "    # output is a '0' for each tag and '1' for current tag (for each pattern)\n",
    "    output_row = list(output_empty)\n",
    "    output_row[classes.index(doc[1])] = 1\n",
    "\n",
    "    training.append([bag, output_row])\n",
    "# shuffle our features and turn into np.array\n",
    "random.shuffle(training)\n",
    "training = np.array(training)\n",
    "# create train and test lists. X - patterns, Y - intents\n",
    "train_x = list(training[:,0])\n",
    "train_y = list(training[:,1])\n",
    "print(\"Training data created\")"
   ]
  },
  {
   "cell_type": "code",
   "execution_count": 25,
   "metadata": {},
   "outputs": [],
   "source": [
    "import random\n",
    "import numpy as np"
   ]
  },
  {
   "cell_type": "code",
   "execution_count": null,
   "metadata": {},
   "outputs": [],
   "source": []
  }
 ],
 "metadata": {
  "kernelspec": {
   "display_name": "Python 3",
   "language": "python",
   "name": "python3"
  },
  "language_info": {
   "codemirror_mode": {
    "name": "ipython",
    "version": 3
   },
   "file_extension": ".py",
   "mimetype": "text/x-python",
   "name": "python",
   "nbconvert_exporter": "python",
   "pygments_lexer": "ipython3",
   "version": "3.6.5"
  }
 },
 "nbformat": 4,
 "nbformat_minor": 4
}
